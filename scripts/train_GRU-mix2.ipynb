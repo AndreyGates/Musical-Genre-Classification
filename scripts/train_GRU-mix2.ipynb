{
 "cells": [
  {
   "cell_type": "code",
   "execution_count": 1,
   "metadata": {},
   "outputs": [],
   "source": [
    "import time\n",
    "import numpy as np\n",
    "\n",
    "from gru_model import GL_model\n",
    "import torch\n",
    "from torch import optim\n",
    "from util import bce_loss, accuracy_function\n",
    "from Paras import Para\n",
    "\n",
    "from data_loader import l_train_loader, l_validation_loader, l_test_loader"
   ]
  },
  {
   "cell_type": "code",
   "execution_count": 2,
   "metadata": {},
   "outputs": [
    {
     "data": {
      "text/plain": [
       "'../model/best_model_2b.pt'"
      ]
     },
     "execution_count": 2,
     "metadata": {},
     "output_type": "execute_result"
    }
   ],
   "source": [
    "Para.MODEL_SAVE_PATH_2B"
   ]
  },
  {
   "cell_type": "code",
   "execution_count": 3,
   "metadata": {},
   "outputs": [],
   "source": [
    "Para.dataset_len = len(l_train_loader)\n",
    "Para.log_step = len(l_train_loader) // 4\n",
    "Para.epoch_num = 40\n",
    "\n",
    "optimizer = torch.optim.RMSprop(GL_model.parameters(), lr=1e-5)\n",
    "scheduler = optim.lr_scheduler.ExponentialLR(optimizer, gamma=0.5)\n",
    "\n",
    "\n",
    "def train(model, epoch, versatile=True):\n",
    "    start_time = time.time()\n",
    "    model = model.train()\n",
    "    train_loss = 0.\n",
    "    accuracy = 0.\n",
    "    batch_num = len(l_train_loader)\n",
    "    _index = 0\n",
    "\n",
    "    for _index, data in enumerate(l_train_loader):\n",
    "        spec_input, target = data['mel'], data['tag']\n",
    "\n",
    "        if Para.cuda:\n",
    "            spec_input = spec_input.cuda()\n",
    "            target = target.cuda()\n",
    "\n",
    "        optimizer.zero_grad()\n",
    "        predicted = model(spec_input)\n",
    "\n",
    "        loss_value = bce_loss(predicted, target)\n",
    "        accuracy_value = accuracy_function(predicted, target)\n",
    "\n",
    "        loss_value.backward()\n",
    "        optimizer.step()\n",
    "\n",
    "        train_loss += loss_value.data.item()\n",
    "        accuracy += accuracy_value\n",
    "\n",
    "        if versatile:\n",
    "            if (_index + 1) % Para.log_step == 0:\n",
    "                elapsed = time.time() - start_time\n",
    "                print('Epoch{:3d} | {:3d}/{:3d} batches | {:5.2f}ms/ batch | BCE: {:5.4f} | Accuracy: {:5.2f}% |'\n",
    "                      .format(epoch, _index + 1, batch_num,\n",
    "                              elapsed * 1000 / (_index + 1),\n",
    "                              train_loss / (_index + 1),\n",
    "                              accuracy * 100 / (_index + 1)))\n",
    "\n",
    "    train_loss /= (_index + 1)\n",
    "    accuracy /= (_index + 1)\n",
    "\n",
    "    print('-' * 99)\n",
    "    print('End of training epoch {:3d} | time: {:5.2f}s | BCE: {:5.4f} | Accuracy: {:5.2f}% |'\n",
    "          .format(epoch, (time.time() - start_time),\n",
    "                  train_loss, accuracy * 100))\n",
    "\n",
    "    return train_loss, accuracy\n",
    "\n",
    "\n",
    "def validate_test(model, epoch, test=False):\n",
    "    start_time = time.time()\n",
    "    model = model.eval()\n",
    "    v_loss = 0.\n",
    "    accuracy = 0.\n",
    "    data_loader_use = l_validation_loader if not test else l_test_loader\n",
    "    _index = 0\n",
    "    for _index, data in enumerate(data_loader_use):\n",
    "        spec_input, target = data['mel'], data['tag']\n",
    "\n",
    "        if Para.cuda:\n",
    "            spec_input = spec_input.cuda()\n",
    "            target = target.cuda()\n",
    "\n",
    "        with torch.no_grad():\n",
    "\n",
    "            predicted = model(spec_input)\n",
    "\n",
    "            loss_value = bce_loss(predicted, target)\n",
    "            accuracy_value = accuracy_function(predicted, target)\n",
    "\n",
    "            v_loss += loss_value.data.item()\n",
    "            accuracy += accuracy_value\n",
    "\n",
    "    v_loss /= (_index + 1)\n",
    "    accuracy /= (_index + 1)\n",
    "\n",
    "    if not test:\n",
    "        print('End of validation epoch {:3d} | time: {:5.2f}s | BCE: {:5.4f} | Accuracy: {:5.2f}% |'\n",
    "              .format(epoch, (time.time() - start_time),\n",
    "                v_loss, accuracy * 100))\n",
    "    else:\n",
    "        print('End of Test | time: {:5.2f}s | BCE: {:5.4f} | Accuracy: {:5.2f}% |'\n",
    "              .format((time.time() - start_time),\n",
    "                v_loss, accuracy * 100))\n",
    "    print('-' * 99)\n",
    "\n",
    "    return v_loss, accuracy"
   ]
  },
  {
   "cell_type": "markdown",
   "metadata": {},
   "source": [
    "# Train the model here"
   ]
  },
  {
   "cell_type": "code",
   "execution_count": 9,
   "metadata": {},
   "outputs": [
    {
     "name": "stdout",
     "output_type": "stream",
     "text": [
      "Epoch  1 |  35/142 batches | 125.39ms/ batch | BCE: 0.0187 | Accuracy: 97.23% |\n",
      "Epoch  1 |  70/142 batches | 124.05ms/ batch | BCE: 0.0186 | Accuracy: 97.28% |\n",
      "Epoch  1 | 105/142 batches | 123.53ms/ batch | BCE: 0.0199 | Accuracy: 96.99% |\n",
      "Epoch  1 | 140/142 batches | 123.27ms/ batch | BCE: 0.0201 | Accuracy: 96.99% |\n",
      "---------------------------------------------------------------------------------------------------\n",
      "End of training epoch   1 | time: 17.49s | BCE: 0.0201 | Accuracy: 97.01% |\n",
      "End of validation epoch   1 | time:  0.73s | BCE: 0.0826 | Accuracy: 85.09% |\n",
      "---------------------------------------------------------------------------------------------------\n",
      "***Found Best Training Model***\n",
      "***Best Validation Model Found and Saved***\n",
      "---------------------------------------------------------------------------------------------------\n",
      "Epoch  2 |  35/142 batches | 124.99ms/ batch | BCE: 0.0151 | Accuracy: 98.57% |\n",
      "Epoch  2 |  70/142 batches | 123.79ms/ batch | BCE: 0.0182 | Accuracy: 97.63% |\n",
      "Epoch  2 | 105/142 batches | 123.36ms/ batch | BCE: 0.0181 | Accuracy: 97.68% |\n",
      "Epoch  2 | 140/142 batches | 123.17ms/ batch | BCE: 0.0185 | Accuracy: 97.77% |\n",
      "---------------------------------------------------------------------------------------------------\n",
      "End of training epoch   2 | time: 17.48s | BCE: 0.0189 | Accuracy: 97.70% |\n",
      "End of validation epoch   2 | time:  0.74s | BCE: 0.0827 | Accuracy: 84.91% |\n",
      "---------------------------------------------------------------------------------------------------\n",
      "***Found Best Training Model***\n",
      "---------------------------------------------------------------------------------------------------\n",
      "Epoch  3 |  35/142 batches | 125.30ms/ batch | BCE: 0.0188 | Accuracy: 97.68% |\n",
      "Epoch  3 |  70/142 batches | 123.91ms/ batch | BCE: 0.0186 | Accuracy: 97.63% |\n",
      "Epoch  3 | 105/142 batches | 123.45ms/ batch | BCE: 0.0183 | Accuracy: 97.68% |\n",
      "Epoch  3 | 140/142 batches | 123.21ms/ batch | BCE: 0.0179 | Accuracy: 97.70% |\n",
      "---------------------------------------------------------------------------------------------------\n",
      "End of training epoch   3 | time: 17.48s | BCE: 0.0180 | Accuracy: 97.70% |\n",
      "End of validation epoch   3 | time:  0.73s | BCE: 0.0854 | Accuracy: 83.35% |\n",
      "---------------------------------------------------------------------------------------------------\n",
      "***Found Best Training Model***\n",
      "---------------------------------------------------------------------------------------------------\n",
      "Epoch  4 |  35/142 batches | 124.61ms/ batch | BCE: 0.0154 | Accuracy: 97.95% |\n",
      "Epoch  4 |  70/142 batches | 123.63ms/ batch | BCE: 0.0152 | Accuracy: 97.90% |\n",
      "Epoch  4 | 105/142 batches | 123.29ms/ batch | BCE: 0.0154 | Accuracy: 97.86% |\n",
      "Epoch  4 | 140/142 batches | 123.12ms/ batch | BCE: 0.0152 | Accuracy: 97.97% |\n",
      "---------------------------------------------------------------------------------------------------\n",
      "End of training epoch   4 | time: 17.47s | BCE: 0.0151 | Accuracy: 98.00% |\n",
      "End of validation epoch   4 | time:  0.74s | BCE: 0.0912 | Accuracy: 83.36% |\n",
      "---------------------------------------------------------------------------------------------------\n",
      "***Found Best Training Model***\n",
      "---------------------------------------------------------------------------------------------------\n",
      "Epoch  5 |  35/142 batches | 124.77ms/ batch | BCE: 0.0168 | Accuracy: 97.23% |\n",
      "Epoch  5 |  70/142 batches | 123.66ms/ batch | BCE: 0.0145 | Accuracy: 97.90% |\n",
      "Epoch  5 | 105/142 batches | 123.28ms/ batch | BCE: 0.0148 | Accuracy: 97.92% |\n",
      "Epoch  5 | 140/142 batches | 123.11ms/ batch | BCE: 0.0149 | Accuracy: 97.83% |\n",
      "---------------------------------------------------------------------------------------------------\n",
      "End of training epoch   5 | time: 17.47s | BCE: 0.0148 | Accuracy: 97.87% |\n",
      "End of validation epoch   5 | time:  0.73s | BCE: 0.0883 | Accuracy: 84.14% |\n",
      "---------------------------------------------------------------------------------------------------\n",
      "---------------------------------------------------------------------------------------------------\n",
      "Epoch  6 |  35/142 batches | 124.95ms/ batch | BCE: 0.0113 | Accuracy: 98.75% |\n",
      "Epoch  6 |  70/142 batches | 123.75ms/ batch | BCE: 0.0131 | Accuracy: 98.30% |\n",
      "Epoch  6 | 105/142 batches | 123.33ms/ batch | BCE: 0.0140 | Accuracy: 98.10% |\n",
      "Epoch  6 | 140/142 batches | 123.16ms/ batch | BCE: 0.0139 | Accuracy: 98.17% |\n",
      "---------------------------------------------------------------------------------------------------\n",
      "End of training epoch   6 | time: 17.48s | BCE: 0.0140 | Accuracy: 98.17% |\n",
      "End of validation epoch   6 | time:  0.74s | BCE: 0.0860 | Accuracy: 84.14% |\n",
      "---------------------------------------------------------------------------------------------------\n",
      "***Found Best Training Model***\n",
      "---------------------------------------------------------------------------------------------------\n",
      "Epoch  7 |  35/142 batches | 125.04ms/ batch | BCE: 0.0128 | Accuracy: 98.04% |\n",
      "Epoch  7 |  70/142 batches | 123.86ms/ batch | BCE: 0.0129 | Accuracy: 98.12% |\n",
      "Epoch  7 | 105/142 batches | 123.45ms/ batch | BCE: 0.0121 | Accuracy: 98.30% |\n",
      "Epoch  7 | 140/142 batches | 123.25ms/ batch | BCE: 0.0123 | Accuracy: 98.28% |\n",
      "---------------------------------------------------------------------------------------------------\n",
      "End of training epoch   7 | time: 17.49s | BCE: 0.0125 | Accuracy: 98.27% |\n",
      "End of validation epoch   7 | time:  0.72s | BCE: 0.0896 | Accuracy: 83.70% |\n",
      "---------------------------------------------------------------------------------------------------\n",
      "***Found Best Training Model***\n",
      "---------------------------------------------------------------------------------------------------\n",
      "Epoch  8 |  35/142 batches | 124.87ms/ batch | BCE: 0.0125 | Accuracy: 98.48% |\n",
      "Epoch  8 |  70/142 batches | 123.76ms/ batch | BCE: 0.0115 | Accuracy: 98.48% |\n",
      "Epoch  8 | 105/142 batches | 123.39ms/ batch | BCE: 0.0109 | Accuracy: 98.72% |\n",
      "Epoch  8 | 140/142 batches | 123.21ms/ batch | BCE: 0.0114 | Accuracy: 98.53% |\n",
      "---------------------------------------------------------------------------------------------------\n",
      "End of training epoch   8 | time: 17.48s | BCE: 0.0114 | Accuracy: 98.53% |\n",
      "End of validation epoch   8 | time:  0.73s | BCE: 0.0865 | Accuracy: 84.83% |\n",
      "---------------------------------------------------------------------------------------------------\n",
      "***Found Best Training Model***\n",
      "---------------------------------------------------------------------------------------------------\n",
      "Epoch  9 |  35/142 batches | 124.90ms/ batch | BCE: 0.0126 | Accuracy: 99.02% |\n",
      "Epoch  9 |  70/142 batches | 123.79ms/ batch | BCE: 0.0116 | Accuracy: 98.79% |\n",
      "Epoch  9 | 105/142 batches | 123.40ms/ batch | BCE: 0.0112 | Accuracy: 98.63% |\n",
      "Epoch  9 | 140/142 batches | 123.21ms/ batch | BCE: 0.0107 | Accuracy: 98.62% |\n",
      "---------------------------------------------------------------------------------------------------\n",
      "End of training epoch   9 | time: 17.48s | BCE: 0.0110 | Accuracy: 98.55% |\n",
      "End of validation epoch   9 | time:  0.72s | BCE: 0.0914 | Accuracy: 83.79% |\n",
      "---------------------------------------------------------------------------------------------------\n",
      "***Found Best Training Model***\n",
      "---------------------------------------------------------------------------------------------------\n",
      "Epoch 10 |  35/142 batches | 124.92ms/ batch | BCE: 0.0092 | Accuracy: 98.93% |\n",
      "Epoch 10 |  70/142 batches | 123.75ms/ batch | BCE: 0.0096 | Accuracy: 98.66% |\n",
      "Epoch 10 | 105/142 batches | 123.37ms/ batch | BCE: 0.0100 | Accuracy: 98.66% |\n",
      "Epoch 10 | 140/142 batches | 123.16ms/ batch | BCE: 0.0098 | Accuracy: 98.75% |\n",
      "---------------------------------------------------------------------------------------------------\n",
      "End of training epoch  10 | time: 17.47s | BCE: 0.0097 | Accuracy: 98.77% |\n",
      "End of validation epoch  10 | time:  0.72s | BCE: 0.0915 | Accuracy: 85.09% |\n",
      "---------------------------------------------------------------------------------------------------\n",
      "***Found Best Training Model***\n",
      "***Best Validation Model Found and Saved***\n",
      "---------------------------------------------------------------------------------------------------\n"
     ]
    }
   ],
   "source": [
    "# t_loss, t_accu, v_loss, v_accu = [], [], [], []\n",
    "# decay_cnt = 0\n",
    "\n",
    "for epoch in range(1, 10 + 1):\n",
    "    if Para.cuda:\n",
    "        GL_model.cuda()\n",
    "\n",
    "    train_loss, train_accuracy = train(GL_model, epoch)\n",
    "    validation_loss, validation_accuracy = validate_test(GL_model, epoch, test=False)\n",
    "\n",
    "    t_loss.append(train_loss)\n",
    "    t_accu.append(train_accuracy)\n",
    "\n",
    "    v_loss.append(validation_loss)\n",
    "    v_accu.append(validation_accuracy)\n",
    "\n",
    "    # use accuracy to find the best model\n",
    "    if np.max(t_accu) == t_accu[-1]:\n",
    "        print('***Found Best Training Model***')\n",
    "    if np.max(v_accu) == v_accu[-1]:\n",
    "        with open('../model/best_model_2b_big_batch.pt', 'wb') as f:\n",
    "            torch.save(GL_model.cpu().state_dict(), f)\n",
    "            print('***Best Validation Model Found and Saved***')\n",
    "\n",
    "    print('-' * 99)\n",
    "\n",
    "    # Use BCE loss value for learning rate scheduling\n",
    "    decay_cnt += 1\n",
    "\n",
    "    if np.min(t_loss) not in t_loss[-3:] and decay_cnt > 2:\n",
    "        scheduler.step()\n",
    "        decay_cnt = 0\n",
    "        print('***Learning rate decreased***')\n",
    "        print('-' * 99)"
   ]
  },
  {
   "cell_type": "code",
   "execution_count": 10,
   "metadata": {},
   "outputs": [],
   "source": [
    "import matplotlib.pyplot as plt"
   ]
  },
  {
   "cell_type": "code",
   "execution_count": 11,
   "metadata": {},
   "outputs": [
    {
     "data": {
      "image/png": "[encoded data removed]",
      "text/plain": [
       "<Figure size 432x288 with 1 Axes>"
      ]
     },
     "metadata": {
      "needs_background": "light"
     },
     "output_type": "display_data"
    }
   ],
   "source": [
    "plt.figure()\n",
    "plt.plot(t_accu, c='b', label='Training set accuracy')\n",
    "plt.plot(v_accu, c='r', label='Validation set accuracy')\n",
    "plt.title('Accuracy vs Epochs / GRU-CNN Model')\n",
    "plt.legend()\n",
    "plt.show()"
   ]
  },
  {
   "cell_type": "code",
   "execution_count": 12,
   "metadata": {},
   "outputs": [],
   "source": [
    "store_dict = dict()\n",
    "store_dict['train_a'] = t_accu\n",
    "store_dict['train_l'] = t_loss\n",
    "store_dict['valid_a'] = v_accu\n",
    "store_dict['valid_l'] = v_loss"
   ]
  },
  {
   "cell_type": "code",
   "execution_count": 13,
   "metadata": {},
   "outputs": [],
   "source": [
    "import json\n",
    "with open('train_on_new_CRNN_big_batch.json', 'w+') as f:\n",
    "    json.dump(store_dict, f)"
   ]
  },
  {
   "cell_type": "code",
   "execution_count": 18,
   "metadata": {},
   "outputs": [
    {
     "name": "stdout",
     "output_type": "stream",
     "text": [
      "End of Test | time:  0.76s | BCE: 0.1383 | Accuracy: 81.19% |\n",
      "---------------------------------------------------------------------------------------------------\n"
     ]
    },
    {
     "data": {
      "text/plain": [
       "(0.13826735441883406, 0.8119212962962963)"
      ]
     },
     "execution_count": 18,
     "metadata": {},
     "output_type": "execute_result"
    }
   ],
   "source": [
    "GL_model.load_state_dict(torch.load('../model/best_model_2b_big_batch.pt'))\n",
    "validate_test(GL_model.cuda(), 0, test=True)"
   ]
  }
 ],
 "metadata": {
  "kernelspec": {
   "display_name": "Python 3",
   "language": "python",
   "name": "python3"
  },
  "language_info": {
   "codemirror_mode": {
    "name": "ipython",
    "version": 3
   },
   "file_extension": ".py",
   "mimetype": "text/x-python",
   "name": "python",
   "nbconvert_exporter": "python",
   "pygments_lexer": "ipython3",
   "version": "3.7.1"
  }
 },
 "nbformat": 4,
 "nbformat_minor": 2
}
