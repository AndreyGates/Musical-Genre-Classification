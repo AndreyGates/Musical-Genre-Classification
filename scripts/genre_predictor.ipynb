{
 "cells": [
  {
   "cell_type": "markdown",
   "metadata": {},
   "source": [
    "# Music Predictor\n",
    "Using this file to predict the genre of a given music file"
   ]
  },
  {
   "cell_type": "code",
   "execution_count": 6,
   "metadata": {},
   "outputs": [],
   "source": [
    "from music_dealer import MusicDealer\n",
    "from model import M_model\n",
    "import os\n",
    "\n",
    "WEIGHT_PATH = \"../model/best_model_1.pt\"\n",
    "dealer = MusicDealer(WEIGHT_PATH, M_model)"
   ]
  },
  {
   "cell_type": "markdown",
   "metadata": {},
   "source": [
    "# Sample Music Results"
   ]
  },
  {
   "cell_type": "code",
   "execution_count": null,
   "metadata": {},
   "outputs": [
    {
     "name": "stdout",
     "output_type": "stream",
     "text": [
      "Test on Kendrick Lamar - HUMBLE..mp3\n",
      "Genre hiphop: 58.09%\n",
      "Genre pop: 31.78%\n",
      "Genre disco: 4.6%\n",
      "Genre reggae: 2.94%\n",
      "Genre blues: 2.6%\n",
      "***************************************************************************************************\n",
      "Test on Jackson Wang- Papillon.mp3\n",
      "Genre pop: 60.93%\n",
      "Genre reggae: 19.63%\n",
      "Genre hiphop: 16.87%\n",
      "Genre blues: 1.29%\n",
      "Genre disco: 1.28%\n",
      "***************************************************************************************************\n",
      "Test on Adele - Hello.mp3\n",
      "Genre pop: 61.9%\n",
      "Genre blues: 19.15%\n",
      "Genre country: 11.72%\n",
      "Genre reggae: 3.87%\n",
      "Genre hiphop: 2.67%\n",
      "Genre metal: 0.7%\n",
      "***************************************************************************************************\n",
      "Test on Aimer - Brave Shine.mp3\n",
      "Genre pop: 59.37%\n",
      "Genre hiphop: 21.87%\n",
      "Genre blues: 9.25%\n",
      "Genre reggae: 3.51%\n",
      "Genre rock: 2.78%\n",
      "Genre country: 1.79%\n",
      "Genre disco: 1.43%\n",
      "***************************************************************************************************\n",
      "Test on Adam Lambert - Whataya Want From Me.mp3\n",
      "Genre pop: 86.93%\n",
      "Genre hiphop: 6.52%\n",
      "Genre reggae: 2.47%\n",
      "Genre jazz: 1.74%\n",
      "Genre disco: 1.28%\n",
      "Genre blues: 1.06%\n",
      "***************************************************************************************************\n",
      "Test on 3ASiC Jony J - 套路.mp3\n"
     ]
    }
   ],
   "source": [
    "data_path = '../sample_music'\n",
    "for (dirpath, dirnames, filenames) in os.walk(data_path):\n",
    "    for file in filenames:\n",
    "        file_path = data_path + \"/\" + file\n",
    "        if 'mp3' not in file_path:\n",
    "            continue\n",
    "        dealer.get_genre(file_path)\n",
    "        print(\"*\"*99)"
   ]
  }
 ],
 "metadata": {
  "kernelspec": {
   "display_name": "Python 3",
   "language": "python",
   "name": "python3"
  },
  "language_info": {
   "codemirror_mode": {
    "name": "ipython",
    "version": 3
   },
   "file_extension": ".py",
   "mimetype": "text/x-python",
   "name": "python",
   "nbconvert_exporter": "python",
   "pygments_lexer": "ipython3",
   "version": "3.6.8"
  }
 },
 "nbformat": 4,
 "nbformat_minor": 2
}
