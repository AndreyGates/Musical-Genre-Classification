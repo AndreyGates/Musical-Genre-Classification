{
 "cells": [
  {
   "cell_type": "markdown",
   "metadata": {},
   "source": [
    "Build training, validation and testing datasets"
   ]
  },
  {
   "cell_type": "code",
   "execution_count": 1,
   "metadata": {},
   "outputs": [],
   "source": [
    "import numpy as np\n",
    "import librosa\n",
    "import librosa.display as display\n",
    "import matplotlib.pyplot as plt\n",
    "import os\n",
    "import h5py\n",
    "import time"
   ]
  },
  {
   "cell_type": "markdown",
   "metadata": {},
   "source": [
    "Retrieve all file names"
   ]
  },
  {
   "cell_type": "code",
   "execution_count": 2,
   "metadata": {},
   "outputs": [
    {
     "data": {
      "text/plain": [
       "0"
      ]
     },
     "execution_count": 2,
     "metadata": {},
     "output_type": "execute_result"
    }
   ],
   "source": [
    "data_path = '../handmadeGenre'\n",
    "genre_path_dict = dict()\n",
    "label_dict = dict()\n",
    "\n",
    "for (dirpath, dirnames, filenames) in os.walk(data_path):\n",
    "    if dirnames:\n",
    "        for idx, genre in enumerate(dirnames):\n",
    "            genre_path_dict[genre] = list()\n",
    "            label_dict[genre] = idx\n",
    "        continue\n",
    "    else:\n",
    "        genre = dirpath.split('/')[-1]\n",
    "        for au_file in filenames:\n",
    "            if 'mp3' in au_file:\n",
    "                current_path = dirpath + '/' + au_file\n",
    "                genre_path_dict[genre].append(current_path)\n",
    "\n",
    "total_file = sum([len(genre_path_dict[genre]) for genre in genre_path_dict])\n",
    "total_file"
   ]
  },
  {
   "cell_type": "markdown",
   "metadata": {},
   "source": [
    "Create log-Mel spectrogram"
   ]
  },
  {
   "cell_type": "code",
   "execution_count": 3,
   "metadata": {},
   "outputs": [],
   "source": [
    "# global varibles:\n",
    "sr = 16000\n",
    "cut_time = 10  # throw first and last 10s\n",
    "cut_wave_length = cut_time * sr\n",
    "n_ftt = 512\n",
    "hop = n_ftt // 4"
   ]
  },
  {
   "cell_type": "code",
   "execution_count": 4,
   "metadata": {},
   "outputs": [
    {
     "data": {
      "text/plain": [
       "{}"
      ]
     },
     "execution_count": 4,
     "metadata": {},
     "output_type": "execute_result"
    }
   ],
   "source": [
    "label_dict"
   ]
  },
  {
   "cell_type": "code",
   "execution_count": 5,
   "metadata": {},
   "outputs": [],
   "source": [
    "genre_dict = dict()\n",
    "for key in label_dict:\n",
    "    genre_dict[label_dict.get(key)] = key"
   ]
  },
  {
   "cell_type": "code",
   "execution_count": 6,
   "metadata": {},
   "outputs": [
    {
     "data": {
      "text/plain": [
       "{}"
      ]
     },
     "execution_count": 6,
     "metadata": {},
     "output_type": "execute_result"
    }
   ],
   "source": [
    "genre_dict"
   ]
  },
  {
   "cell_type": "code",
   "execution_count": 7,
   "metadata": {},
   "outputs": [
    {
     "ename": "KeyError",
     "evalue": "'pop'",
     "output_type": "error",
     "traceback": [
      "\u001b[1;31m---------------------------------------------------------------------------\u001b[0m",
      "\u001b[1;31mKeyError\u001b[0m                                  Traceback (most recent call last)",
      "Cell \u001b[1;32mIn [7], line 1\u001b[0m\n\u001b[1;32m----> 1\u001b[0m genre_path_dict[\u001b[39m'\u001b[39;49m\u001b[39mpop\u001b[39;49m\u001b[39m'\u001b[39;49m][\u001b[39m0\u001b[39m]\n",
      "\u001b[1;31mKeyError\u001b[0m: 'pop'"
     ]
    }
   ],
   "source": [
    "genre_path_dict['pop'][0]"
   ]
  },
  {
   "cell_type": "code",
   "execution_count": null,
   "metadata": {},
   "outputs": [
    {
     "ename": "",
     "evalue": "",
     "output_type": "error",
     "traceback": [
      "\u001b[1;31mRunning cells with 'Python 3.10.4 64-bit' requires ipykernel package.\n",
      "\u001b[1;31mRun the following command to install 'ipykernel' into the Python environment. \n",
      "\u001b[1;31mCommand: 'c:/Users/pisar/AppData/Local/Programs/Python/Python310/python.exe -m pip install ipykernel -U --user --force-reinstall'"
     ]
    }
   ],
   "source": [
    "# This is the newer one\n",
    "def frame_feature_extractor(file_path):\n",
    "    signal, _ = librosa.load(file_path, sr=sr)\n",
    "    signal = signal[cut_wave_length: -1 * cut_wave_length] # cut wave length\n",
    "    \n",
    "    S = librosa.feature.melspectrogram(y=signal, sr=sr, n_mels=256).T\n",
    "    S = librosa.power_to_db(S)\n",
    "    if not S.shape[0] % 256 == 0:\n",
    "        S = S[:-1 * (S.shape[0] % 256)] # divide the mel spectrogram\n",
    "    chunk_num = int(S.shape[0] / 256)\n",
    "    mel_chunks = np.split(S, chunk_num) # create 128 * 128 data frames\n",
    "    return mel_chunks, chunk_num"
   ]
  },
  {
   "cell_type": "code",
   "execution_count": null,
   "metadata": {},
   "outputs": [
    {
     "ename": "",
     "evalue": "",
     "output_type": "error",
     "traceback": [
      "\u001b[1;31mRunning cells with 'Python 3.10.4 64-bit' requires ipykernel package.\n",
      "\u001b[1;31mRun the following command to install 'ipykernel' into the Python environment. \n",
      "\u001b[1;31mCommand: 'c:/Users/pisar/AppData/Local/Programs/Python/Python310/python.exe -m pip install ipykernel -U --user --force-reinstall'"
     ]
    }
   ],
   "source": [
    "signal, chunk_num = frame_feature_extractor(genre_path_dict['pop'][0])\n",
    "plt.title('pop sample-frame-1')\n",
    "display.specshow(signal[0], y_axis='time')\n",
    "plt.show()"
   ]
  },
  {
   "cell_type": "markdown",
   "metadata": {},
   "source": [
    "## Build datasets"
   ]
  },
  {
   "cell_type": "code",
   "execution_count": null,
   "metadata": {},
   "outputs": [
    {
     "ename": "",
     "evalue": "",
     "output_type": "error",
     "traceback": [
      "\u001b[1;31mRunning cells with 'Python 3.10.4 64-bit' requires ipykernel package.\n",
      "\u001b[1;31mRun the following command to install 'ipykernel' into the Python environment. \n",
      "\u001b[1;31mCommand: 'c:/Users/pisar/AppData/Local/Programs/Python/Python310/python.exe -m pip install ipykernel -U --user --force-reinstall'"
     ]
    }
   ],
   "source": [
    "def build_tag(genre):\n",
    "    target = np.zeros(len(label_dict), dtype=int)\n",
    "    pos = label_dict.get(genre)\n",
    "    target[pos] = 1\n",
    "    return target\n",
    "\n",
    "build_tag('pop').shape"
   ]
  },
  {
   "cell_type": "markdown",
   "metadata": {},
   "source": [
    "## Create separate dataset for each file"
   ]
  },
  {
   "cell_type": "code",
   "execution_count": null,
   "metadata": {},
   "outputs": [
    {
     "ename": "",
     "evalue": "",
     "output_type": "error",
     "traceback": [
      "\u001b[1;31mRunning cells with 'Python 3.10.4 64-bit' requires ipykernel package.\n",
      "\u001b[1;31mRun the following command to install 'ipykernel' into the Python environment. \n",
      "\u001b[1;31mCommand: 'c:/Users/pisar/AppData/Local/Programs/Python/Python310/python.exe -m pip install ipykernel -U --user --force-reinstall'"
     ]
    }
   ],
   "source": [
    "data_set_path = '../handmadeDBL/'"
   ]
  },
  {
   "cell_type": "code",
   "execution_count": null,
   "metadata": {},
   "outputs": [
    {
     "ename": "",
     "evalue": "",
     "output_type": "error",
     "traceback": [
      "\u001b[1;31mRunning cells with 'Python 3.10.4 64-bit' requires ipykernel package.\n",
      "\u001b[1;31mRun the following command to install 'ipykernel' into the Python environment. \n",
      "\u001b[1;31mCommand: 'c:/Users/pisar/AppData/Local/Programs/Python/Python310/python.exe -m pip install ipykernel -U --user --force-reinstall'"
     ]
    }
   ],
   "source": [
    "count = 0\n",
    "file_index = 0\n",
    "mel_shape = signal[0].shape\n",
    "\n",
    "for key in label_dict:\n",
    "    print('deal with {0}'.format(key))\n",
    "    for file_i, file in enumerate(genre_path_dict.get(key)):\n",
    "        mel_list, chunk_number = frame_feature_extractor(file)\n",
    "        dataset_name = data_set_path + str(file_index) + '.h5'\n",
    "        current_dataset = h5py.File(dataset_name, 'a')\n",
    "        \n",
    "        current_dataset.create_dataset('mel', shape=(chunk_number, mel_shape[0], mel_shape[1]), dtype=np.float32)\n",
    "        current_dataset.create_dataset('tag', shape=(chunk_number, 10 ), dtype=int)   \n",
    "        \n",
    "        for i, mel_signal_chunk in enumerate(mel_list):\n",
    "            current_dataset['tag'][i] = build_tag(key)\n",
    "            current_dataset['mel'][i] = mel_signal_chunk\n",
    "            count += 1\n",
    "        \n",
    "        print('->{0}'.format(file_i), end='')\n",
    "        current_dataset.close()\n",
    "        file_index += 1\n",
    "        \n",
    "    print(' ')\n",
    "\n",
    "print(count)\n",
    "print(file_index)\n",
    "    "
   ]
  },
  {
   "cell_type": "code",
   "execution_count": null,
   "metadata": {},
   "outputs": [
    {
     "ename": "",
     "evalue": "",
     "output_type": "error",
     "traceback": [
      "\u001b[1;31mRunning cells with 'Python 3.10.4 64-bit' requires ipykernel package.\n",
      "\u001b[1;31mRun the following command to install 'ipykernel' into the Python environment. \n",
      "\u001b[1;31mCommand: 'c:/Users/pisar/AppData/Local/Programs/Python/Python310/python.exe -m pip install ipykernel -U --user --force-reinstall'"
     ]
    }
   ],
   "source": [
    "all_setpath = data_set_path + 'hand_all.h5'\n",
    "all_dataset = h5py.File(all_setpath, 'a')"
   ]
  },
  {
   "cell_type": "code",
   "execution_count": null,
   "metadata": {},
   "outputs": [
    {
     "ename": "",
     "evalue": "",
     "output_type": "error",
     "traceback": [
      "\u001b[1;31mRunning cells with 'Python 3.10.4 64-bit' requires ipykernel package.\n",
      "\u001b[1;31mRun the following command to install 'ipykernel' into the Python environment. \n",
      "\u001b[1;31mCommand: 'c:/Users/pisar/AppData/Local/Programs/Python/Python310/python.exe -m pip install ipykernel -U --user --force-reinstall'"
     ]
    }
   ],
   "source": [
    "all_dataset.create_dataset('mel', shape=(count, mel_shape[0], mel_shape[1]), dtype=np.float32)\n",
    "all_dataset.create_dataset('tag', shape=(count, 10 ), dtype=int)   "
   ]
  },
  {
   "cell_type": "markdown",
   "metadata": {},
   "source": [
    "### load data in one set"
   ]
  },
  {
   "cell_type": "code",
   "execution_count": null,
   "metadata": {},
   "outputs": [
    {
     "ename": "",
     "evalue": "",
     "output_type": "error",
     "traceback": [
      "\u001b[1;31mRunning cells with 'Python 3.10.4 64-bit' requires ipykernel package.\n",
      "\u001b[1;31mRun the following command to install 'ipykernel' into the Python environment. \n",
      "\u001b[1;31mCommand: 'c:/Users/pisar/AppData/Local/Programs/Python/Python310/python.exe -m pip install ipykernel -U --user --force-reinstall'"
     ]
    }
   ],
   "source": [
    "count = 0\n",
    "for (dirpath, dirnames, filenames) in os.walk(data_set_path):\n",
    "    if filenames:\n",
    "        for set_name in filenames:\n",
    "            if 'h5' not in set_name or 'all' in set_name:\n",
    "                continue\n",
    "            set_path = data_set_path + set_name\n",
    "            tmp_dataset = h5py.File(set_path, 'r')\n",
    "            tmp_count = tmp_dataset['mel'].shape[0]\n",
    "            for i in range(tmp_count):\n",
    "                all_dataset['mel'][count] = tmp_dataset['mel'][i]\n",
    "                all_dataset['tag'][count] = tmp_dataset['tag'][i]\n",
    "                count += 1\n",
    "            tmp_dataset.close()\n",
    "all_dataset.close()\n",
    "print(count)"
   ]
  },
  {
   "cell_type": "code",
   "execution_count": null,
   "metadata": {},
   "outputs": [
    {
     "ename": "",
     "evalue": "",
     "output_type": "error",
     "traceback": [
      "\u001b[1;31mRunning cells with 'Python 3.10.4 64-bit' requires ipykernel package.\n",
      "\u001b[1;31mRun the following command to install 'ipykernel' into the Python environment. \n",
      "\u001b[1;31mCommand: 'c:/Users/pisar/AppData/Local/Programs/Python/Python310/python.exe -m pip install ipykernel -U --user --force-reinstall'"
     ]
    }
   ],
   "source": [
    "setpath1 = data_set_path + 'hand_all.h5'\n",
    "setpath2 = '../datasets/all_long.h5'\n",
    "db1 = h5py.File(setpath1, 'r')\n",
    "db2 = h5py.File(setpath2, 'r')\n",
    "all_chunk = count + 3000\n",
    "\n",
    "fin_setpath = data_set_path + 'fin_all.h5'\n",
    "dataset = h5py.File(fin_setpath, 'a')\n",
    "dataset.create_dataset('mel', shape=(all_chunk, mel_shape[0], mel_shape[1]), dtype=np.float32)\n",
    "dataset.create_dataset('tag', shape=(all_chunk, 10 ), dtype=int) \n",
    "\n",
    "fin_count = 0\n",
    "for j in range(count):\n",
    "    dataset['mel'][fin_count] = db1['mel'][j]\n",
    "    dataset['tag'][fin_count] = db1['tag'][j]\n",
    "    fin_count += 1\n",
    "\n",
    "db1.close()\n",
    "\n",
    "for j in range(3000):\n",
    "    dataset['mel'][fin_count] = db2['mel'][j]\n",
    "    dataset['tag'][fin_count] = db2['tag'][j]\n",
    "    fin_count += 1\n",
    "\n",
    "db2.close()\n",
    "dataset.close()\n",
    "print(fin_count)"
   ]
  },
  {
   "cell_type": "markdown",
   "metadata": {},
   "source": [
    "## Build Separate Datasets"
   ]
  },
  {
   "cell_type": "code",
   "execution_count": null,
   "metadata": {},
   "outputs": [
    {
     "ename": "",
     "evalue": "",
     "output_type": "error",
     "traceback": [
      "\u001b[1;31mRunning cells with 'Python 3.10.4 64-bit' requires ipykernel package.\n",
      "\u001b[1;31mRun the following command to install 'ipykernel' into the Python environment. \n",
      "\u001b[1;31mCommand: 'c:/Users/pisar/AppData/Local/Programs/Python/Python310/python.exe -m pip install ipykernel -U --user --force-reinstall'"
     ]
    }
   ],
   "source": [
    "import random"
   ]
  },
  {
   "cell_type": "code",
   "execution_count": null,
   "metadata": {},
   "outputs": [
    {
     "ename": "",
     "evalue": "",
     "output_type": "error",
     "traceback": [
      "\u001b[1;31mRunning cells with 'Python 3.10.4 64-bit' requires ipykernel package.\n",
      "\u001b[1;31mRun the following command to install 'ipykernel' into the Python environment. \n",
      "\u001b[1;31mCommand: 'c:/Users/pisar/AppData/Local/Programs/Python/Python310/python.exe -m pip install ipykernel -U --user --force-reinstall'"
     ]
    }
   ],
   "source": [
    "dataset = h5py.File(fin_setpath, 'r')"
   ]
  },
  {
   "cell_type": "code",
   "execution_count": null,
   "metadata": {},
   "outputs": [
    {
     "ename": "",
     "evalue": "",
     "output_type": "error",
     "traceback": [
      "\u001b[1;31mRunning cells with 'Python 3.10.4 64-bit' requires ipykernel package.\n",
      "\u001b[1;31mRun the following command to install 'ipykernel' into the Python environment. \n",
      "\u001b[1;31mCommand: 'c:/Users/pisar/AppData/Local/Programs/Python/Python310/python.exe -m pip install ipykernel -U --user --force-reinstall'"
     ]
    }
   ],
   "source": [
    "train_file = fin_count * 0.8\n",
    "valid_file = fin_count * 0.1\n",
    "test_file = fin_count - int(train_file) - int(valid_file)"
   ]
  },
  {
   "cell_type": "code",
   "execution_count": null,
   "metadata": {},
   "outputs": [
    {
     "ename": "",
     "evalue": "",
     "output_type": "error",
     "traceback": [
      "\u001b[1;31mRunning cells with 'Python 3.10.4 64-bit' requires ipykernel package.\n",
      "\u001b[1;31mRun the following command to install 'ipykernel' into the Python environment. \n",
      "\u001b[1;31mCommand: 'c:/Users/pisar/AppData/Local/Programs/Python/Python310/python.exe -m pip install ipykernel -U --user --force-reinstall'"
     ]
    }
   ],
   "source": [
    "train_set = '../datasets/l_train.h5'\n",
    "valid_set = '../datasets/l_valid.h5'\n",
    "test_set = '../datasets/l_test.h5'"
   ]
  },
  {
   "cell_type": "code",
   "execution_count": null,
   "metadata": {},
   "outputs": [
    {
     "ename": "",
     "evalue": "",
     "output_type": "error",
     "traceback": [
      "\u001b[1;31mRunning cells with 'Python 3.10.4 64-bit' requires ipykernel package.\n",
      "\u001b[1;31mRun the following command to install 'ipykernel' into the Python environment. \n",
      "\u001b[1;31mCommand: 'c:/Users/pisar/AppData/Local/Programs/Python/Python310/python.exe -m pip install ipykernel -U --user --force-reinstall'"
     ]
    }
   ],
   "source": [
    "files = [int(a) for a in [train_file, valid_file, test_file]]\n",
    "sets = [train_set, valid_set, test_set]\n",
    "print(files)"
   ]
  },
  {
   "cell_type": "markdown",
   "metadata": {},
   "source": [
    "### Shuffle and create"
   ]
  },
  {
   "cell_type": "code",
   "execution_count": null,
   "metadata": {},
   "outputs": [
    {
     "ename": "",
     "evalue": "",
     "output_type": "error",
     "traceback": [
      "\u001b[1;31mRunning cells with 'Python 3.10.4 64-bit' requires ipykernel package.\n",
      "\u001b[1;31mRun the following command to install 'ipykernel' into the Python environment. \n",
      "\u001b[1;31mCommand: 'c:/Users/pisar/AppData/Local/Programs/Python/Python310/python.exe -m pip install ipykernel -U --user --force-reinstall'"
     ]
    }
   ],
   "source": [
    "idx = [i for i in range(fin_count)]\n",
    "random.seed(516)\n",
    "random.shuffle(idx)"
   ]
  },
  {
   "cell_type": "code",
   "execution_count": null,
   "metadata": {},
   "outputs": [
    {
     "ename": "",
     "evalue": "",
     "output_type": "error",
     "traceback": [
      "\u001b[1;31mRunning cells with 'Python 3.10.4 64-bit' requires ipykernel package.\n",
      "\u001b[1;31mRun the following command to install 'ipykernel' into the Python environment. \n",
      "\u001b[1;31mCommand: 'c:/Users/pisar/AppData/Local/Programs/Python/Python310/python.exe -m pip install ipykernel -U --user --force-reinstall'"
     ]
    }
   ],
   "source": [
    "train_idx = idx[:files[0]]\n",
    "valid_idx = idx[files[0]: files[0]+files[1]]\n",
    "test_idx = idx[-files[2]:]\n",
    "indices = [train_idx, valid_idx, test_idx]"
   ]
  },
  {
   "cell_type": "markdown",
   "metadata": {},
   "source": [
    "### Copy"
   ]
  },
  {
   "cell_type": "code",
   "execution_count": null,
   "metadata": {},
   "outputs": [
    {
     "ename": "",
     "evalue": "",
     "output_type": "error",
     "traceback": [
      "\u001b[1;31mRunning cells with 'Python 3.10.4 64-bit' requires ipykernel package.\n",
      "\u001b[1;31mRun the following command to install 'ipykernel' into the Python environment. \n",
      "\u001b[1;31mCommand: 'c:/Users/pisar/AppData/Local/Programs/Python/Python310/python.exe -m pip install ipykernel -U --user --force-reinstall'"
     ]
    }
   ],
   "source": [
    "for i, dset in enumerate(sets):\n",
    "    s_set = h5py.File(dset, 'a')\n",
    "    indice = indices[i]\n",
    "    file_num = files[i]\n",
    "    \n",
    "    s_set.create_dataset('mel', shape=(file_num, mel_shape[0], mel_shape[1]), dtype=np.float32)\n",
    "#     s_set.create_dataset('mfcc', shape=(file_num, mfcc_shape[0], mfcc_shape[1]), dtype=np.float32)\n",
    "    s_set.create_dataset('tag', shape=(file_num, 10 ), dtype=int)\n",
    "    \n",
    "    count = 0\n",
    "    for i in indice:\n",
    "        s_set['mel'][count] = dataset['mel'][i]\n",
    "#         s_set['mfcc'][count] = dataset['mfcc'][i]\n",
    "        s_set['tag'][count] = dataset['tag'][i]\n",
    "        count += 1\n",
    "        \n",
    "        if count % 10 == 0:\n",
    "            print('*', end=\"\")\n",
    "    \n",
    "    s_set.close()\n",
    "    print()  \n",
    "    print('Create Separate Datasets {0}'.format(dset))\n",
    "    "
   ]
  },
  {
   "cell_type": "markdown",
   "metadata": {},
   "source": [
    "## Test Here"
   ]
  },
  {
   "cell_type": "code",
   "execution_count": null,
   "metadata": {},
   "outputs": [
    {
     "ename": "",
     "evalue": "",
     "output_type": "error",
     "traceback": [
      "\u001b[1;31mRunning cells with 'Python 3.10.4 64-bit' requires ipykernel package.\n",
      "\u001b[1;31mRun the following command to install 'ipykernel' into the Python environment. \n",
      "\u001b[1;31mCommand: 'c:/Users/pisar/AppData/Local/Programs/Python/Python310/python.exe -m pip install ipykernel -U --user --force-reinstall'"
     ]
    }
   ],
   "source": [
    "t_set = h5py.File(train_set, 'r')\n",
    "mel_shape"
   ]
  },
  {
   "cell_type": "code",
   "execution_count": null,
   "metadata": {},
   "outputs": [
    {
     "ename": "",
     "evalue": "",
     "output_type": "error",
     "traceback": [
      "\u001b[1;31mRunning cells with 'Python 3.10.4 64-bit' requires ipykernel package.\n",
      "\u001b[1;31mRun the following command to install 'ipykernel' into the Python environment. \n",
      "\u001b[1;31mCommand: 'c:/Users/pisar/AppData/Local/Programs/Python/Python310/python.exe -m pip install ipykernel -U --user --force-reinstall'"
     ]
    }
   ],
   "source": [
    "print(t_set['mel'].shape)\n",
    "print(t_set['tag'][:5])"
   ]
  }
 ],
 "metadata": {
  "kernelspec": {
   "display_name": "Python 3.9.1 ('mypython': venv)",
   "language": "python",
   "name": "python3"
  },
  "language_info": {
   "codemirror_mode": {
    "name": "ipython",
    "version": 3
   },
   "file_extension": ".py",
   "mimetype": "text/x-python",
   "name": "python",
   "nbconvert_exporter": "python",
   "pygments_lexer": "ipython3",
   "version": "3.9.1"
  },
  "vscode": {
   "interpreter": {
    "hash": "862a949ed1570ee46129a5c3f06ebfeed7aec60aac55a4a0f9004f9e42de05a5"
   }
  }
 },
 "nbformat": 4,
 "nbformat_minor": 2
}
