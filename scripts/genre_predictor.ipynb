{
 "cells": [
  {
   "cell_type": "markdown",
   "metadata": {},
   "source": [
    "# Music Predictor\n",
    "Using this file to predict the genre of a given music file"
   ]
  },
  {
   "cell_type": "code",
   "execution_count": 1,
   "metadata": {},
   "outputs": [],
   "source": [
    "from music_dealer import MusicDealer\n",
    "from models import CnnModel, CrnnLongModel, CrnnModel \n",
    "import json\n",
    "from Paras import Para\n",
    "import os"
   ]
  },
  {
   "cell_type": "code",
   "execution_count": 2,
   "metadata": {},
   "outputs": [],
   "source": [
    "WEIGHT_PATH = \"../model/\"\n",
    "cnn_dealer = MusicDealer(WEIGHT_PATH + \"CnnModel.pt\", CnnModel())\n",
    "crnn_dealer = MusicDealer(WEIGHT_PATH + \"CrnnModel.pt\", CrnnModel())\n",
    "lcrnn_dealer = MusicDealer(WEIGHT_PATH + \"CrnnLongModel.pt\", CrnnLongModel(), 256)"
   ]
  },
  {
   "cell_type": "markdown",
   "metadata": {},
   "source": [
    "# Sample Music  Paths"
   ]
  },
  {
   "cell_type": "code",
   "execution_count": 5,
   "metadata": {
    "scrolled": true
   },
   "outputs": [
    {
     "data": {
      "text/plain": [
       "(30,\n",
       " {'pop': 0,\n",
       "  'metal': 1,\n",
       "  'disco': 2,\n",
       "  'blues': 3,\n",
       "  'reggae': 4,\n",
       "  'classical': 5,\n",
       "  'rock': 6,\n",
       "  'hiphop': 7,\n",
       "  'country': 8,\n",
       "  'jazz': 9},\n",
       " {'reggae': ['../sample_music/reggae/Shaggy - Oh Carolina 1993 (Official HQ).mp3',\n",
       "   '../sample_music/reggae/Toots & The Maytals - Do The Reggae.mp3',\n",
       "   '../sample_music/reggae/John HoltPolice In Helicopter.mp3'],\n",
       "  'disco': [\"../sample_music/disco/The O'Jays - Love Train.mp3\",\n",
       "   '../sample_music/disco/I Will Survive.mp3',\n",
       "   '../sample_music/disco/The Hues CorporationRock The Boat.mp3'],\n",
       "  'metal': ['../sample_music/metal/Critical Acclaim.mp3',\n",
       "   '../sample_music/metal/Tokyo Ghoul - Unravel [Lyrics].mp3',\n",
       "   '../sample_music/metal/Black Label Society - Bored To Tears (Sonic Brew)Audio.mp3'],\n",
       "  'blues': ['../sample_music/blues/Big Maceo-Worried Life Blues (1941) HD.mp3',\n",
       "   \"../sample_music/blues/Freddie KingYou've Got To Love Her With Feeling.mp3\",\n",
       "   '../sample_music/blues/Walking Blues - Robert Johnson - The Complete Recordings.mp3'],\n",
       "  'hiphop': ['../sample_music/hiphop/Wu-Tang Clan - C.R.E.A.M. (Official Music Video).mp3',\n",
       "   \"../sample_music/hiphop/Dr. Dre ft. Snoop Doggy Dogg - Nuthin' But A G Thang (Dirty) HD.mp3\",\n",
       "   '../sample_music/hiphop/Offset - Clout ft. Cardi B.mp3'],\n",
       "  'rock': ['../sample_music/rock/elvis presley-hound dog.mp3',\n",
       "   '../sample_music/rock/The Black Keys - LoHi [Official Audio].mp3',\n",
       "   '../sample_music/rock/3 Doors Down - Loser.mp3'],\n",
       "  'pop': ['../sample_music/pop/Panic! At The Disco - High Hopes (Official Video).mp3',\n",
       "   '../sample_music/pop/Camila Cabello - Havana (Official Music VIdeo) ft. Young Thug.mp3',\n",
       "   '../sample_music/pop/Halsey - Without Me.mp3'],\n",
       "  'classical': ['../sample_music/classical/F. ChopinNocturne in c sharp minor for violin and piano YuEun Kim, Violin쇼팽 녹턴바이올리니스트 김유은.mp3',\n",
       "   '../sample_music/classical/Beethoven-Sonata for Piano and Violin no 5, Spring Sonata I.mp3',\n",
       "   '../sample_music/classical/Mozart Violin Sonata K.301 Hilary Hahn &amp Natalie Zhu.mp3'],\n",
       "  'jazz': ['../sample_music/jazz/Miles Davis - So What (Audio).mp3',\n",
       "   '../sample_music/jazz/Naima - John Coltrane.mp3',\n",
       "   '../sample_music/jazz/Charles Mingus - Goodbye Pork Pie Hat.mp3'],\n",
       "  'country': ['../sample_music/country/Friends in low places lyrics Garth Brooks.mp3',\n",
       "   '../sample_music/country/Lee Ann Womack - I Hope You Dance.mp3',\n",
       "   '../sample_music/country/Randy Travis - Forever and Ever, Amen (Official Audio).mp3']})"
      ]
     },
     "execution_count": 5,
     "metadata": {},
     "output_type": "execute_result"
    }
   ],
   "source": [
    "data_path = '../sample_music'\n",
    "genre_path_dict = dict()\n",
    "label_dict = Para.r_dictionary\n",
    "\n",
    "for (dirpath, dirnames, filenames) in os.walk(data_path):\n",
    "    if dirnames:\n",
    "        for idx, genre in enumerate(dirnames):\n",
    "            genre_path_dict[genre] = list()\n",
    "        continue\n",
    "    else:\n",
    "        genre = dirpath.split('/')[-1]\n",
    "        for au_file in filenames:\n",
    "            if 'mp3' in au_file:\n",
    "                current_path = dirpath + '/' + au_file\n",
    "                genre_path_dict[genre].append(current_path)\n",
    "\n",
    "total_file = sum([len(genre_path_dict[genre]) for genre in genre_path_dict])\n",
    "total_file, label_dict, genre_path_dict"
   ]
  },
  {
   "cell_type": "code",
   "execution_count": 6,
   "metadata": {},
   "outputs": [],
   "source": [
    "def test_model(dealer, save_name):\n",
    "    test_result = dict()\n",
    "    for key in genre_path_dict:\n",
    "        test_result[key] = 0\n",
    "        print('test on sample {0}'.format(key))\n",
    "        for file_name in genre_path_dict.get(key):\n",
    "            res1, res2, res3, score = dealer.get_genre(file_name)\n",
    "            if res1 == label_dict.get(key):\n",
    "                test_result[key] += score.get(res1)\n",
    "            elif res2 == label_dict.get(key):\n",
    "                test_result[key] += score.get(res2)\n",
    "            elif res3 == label_dict.get(key):\n",
    "                test_result[key] += score.get(res3)\n",
    "            print(\"*\"*99)\n",
    "        test_result[key] /= 300\n",
    "        print(test_result[key])\n",
    "        print(\"+\"*99)\n",
    "    with open(Para.LOG_SAVE_FOLD + save_name, 'w+') as f:\n",
    "        json.dump(test_result, f)\n",
    "    return"
   ]
  },
  {
   "cell_type": "markdown",
   "metadata": {},
   "source": [
    "# CNN"
   ]
  },
  {
   "cell_type": "code",
   "execution_count": null,
   "metadata": {
    "scrolled": true
   },
   "outputs": [
    {
     "name": "stdout",
     "output_type": "stream",
     "text": [
      "test on sample reggae\n",
      "Test on Shaggy - Oh Carolina 1993 (Official HQ).mp3\n",
      "Genre pop: 47.15%\n",
      "Genre hiphop: 41.56%\n",
      "Genre blues: 6.13%\n",
      "Genre reggae: 5.16%\n",
      "***************************************************************************************************\n",
      "Test on Toots & The Maytals - Do The Reggae.mp3\n",
      "Genre reggae: 98.67%\n",
      "Genre blues: 1.33%\n",
      "***************************************************************************************************\n",
      "Test on John HoltPolice In Helicopter.mp3\n",
      "Genre reggae: 91.71%\n",
      "Genre hiphop: 6.19%\n",
      "Genre blues: 2.1%\n",
      "***************************************************************************************************\n",
      "0.6346058600757705\n",
      "+++++++++++++++++++++++++++++++++++++++++++++++++++++++++++++++++++++++++++++++++++++++++++++++++++\n",
      "test on sample disco\n",
      "Test on The O'Jays - Love Train.mp3\n",
      "Genre disco: 78.67%\n",
      "Genre rock: 19.59%\n",
      "Genre country: 1.74%\n",
      "***************************************************************************************************\n",
      "Test on I Will Survive.mp3\n",
      "Genre disco: 93.43%\n",
      "Genre pop: 5.28%\n",
      "Genre reggae: 1.29%\n",
      "***************************************************************************************************\n",
      "Test on The Hues CorporationRock The Boat.mp3\n",
      "Genre blues: 42.24%\n",
      "Genre rock: 23.07%\n",
      "Genre pop: 18.66%\n",
      "Genre reggae: 11.48%\n",
      "Genre country: 4.55%\n",
      "***************************************************************************************************\n",
      "0.573668634564919\n",
      "+++++++++++++++++++++++++++++++++++++++++++++++++++++++++++++++++++++++++++++++++++++++++++++++++++\n",
      "test on sample metal\n",
      "Test on Critical Acclaim.mp3\n",
      "Genre metal: 79.58%\n",
      "Genre hiphop: 10.89%\n",
      "Genre rock: 4.42%\n",
      "Genre classical: 3.3%\n",
      "Genre blues: 0.95%\n",
      "Genre pop: 0.84%\n",
      "***************************************************************************************************\n",
      "Test on Tokyo Ghoul - Unravel [Lyrics].mp3\n",
      "Genre pop: 84.58%\n",
      "Genre metal: 7.59%\n",
      "Genre hiphop: 5.64%\n",
      "Genre classical: 2.19%\n",
      "***************************************************************************************************\n",
      "Test on Black Label Society - Bored To Tears (Sonic Brew)Audio.mp3\n",
      "Genre metal: 79.44%\n",
      "Genre hiphop: 14.42%\n",
      "Genre pop: 6.14%\n",
      "***************************************************************************************************\n",
      "0.5553914256999678\n",
      "+++++++++++++++++++++++++++++++++++++++++++++++++++++++++++++++++++++++++++++++++++++++++++++++++++\n",
      "test on sample blues\n",
      "Test on Big Maceo-Worried Life Blues (1941) HD.mp3\n",
      "Genre blues: 88.48%\n",
      "Genre jazz: 11.52%\n",
      "***************************************************************************************************\n",
      "Test on Freddie KingYou've Got To Love Her With Feeling.mp3\n",
      "Genre blues: 84.22%\n",
      "Genre jazz: 15.78%\n",
      "***************************************************************************************************\n",
      "Test on Walking Blues - Robert Johnson - The Complete Recordings.mp3\n",
      "Genre blues: 79.27%\n",
      "Genre hiphop: 20.73%\n",
      "***************************************************************************************************\n",
      "0.8399308096580941\n",
      "+++++++++++++++++++++++++++++++++++++++++++++++++++++++++++++++++++++++++++++++++++++++++++++++++++\n",
      "test on sample hiphop\n",
      "Test on Wu-Tang Clan - C.R.E.A.M. (Official Music Video).mp3\n",
      "Genre hiphop: 100.0%\n",
      "***************************************************************************************************\n",
      "Test on Dr. Dre ft. Snoop Doggy Dogg - Nuthin' But A G Thang (Dirty) HD.mp3\n",
      "Genre hiphop: 98.75%\n",
      "Genre blues: 1.25%\n",
      "***************************************************************************************************\n",
      "Test on Offset - Clout ft. Cardi B.mp3\n",
      "Genre hiphop: 55.07%\n",
      "Genre pop: 40.38%\n",
      "Genre blues: 4.56%\n",
      "***************************************************************************************************\n",
      "0.8460413885650256\n",
      "+++++++++++++++++++++++++++++++++++++++++++++++++++++++++++++++++++++++++++++++++++++++++++++++++++\n",
      "test on sample rock\n",
      "Test on elvis presley-hound dog.mp3\n",
      "Genre rock: 34.45%\n",
      "Genre jazz: 14.4%\n",
      "Genre blues: 13.82%\n",
      "Genre pop: 12.64%\n",
      "Genre reggae: 12.32%\n",
      "Genre hiphop: 7.02%\n",
      "Genre metal: 5.35%\n",
      "***************************************************************************************************\n",
      "Test on The Black Keys - LoHi [Official Audio].mp3\n",
      "Genre pop: 96.19%\n",
      "Genre metal: 1.53%\n",
      "Genre hiphop: 1.15%\n",
      "Genre reggae: 1.13%\n",
      "***************************************************************************************************\n",
      "Test on 3 Doors Down - Loser.mp3\n",
      "Genre rock: 80.31%\n",
      "Genre country: 12.1%\n",
      "Genre metal: 7.6%\n",
      "***************************************************************************************************\n",
      "0.38251460319203945\n",
      "+++++++++++++++++++++++++++++++++++++++++++++++++++++++++++++++++++++++++++++++++++++++++++++++++++\n",
      "test on sample pop\n",
      "Test on Panic! At The Disco - High Hopes (Official Video).mp3\n",
      "Genre pop: 79.85%\n",
      "Genre hiphop: 6.94%\n",
      "Genre blues: 4.6%\n",
      "Genre country: 4.41%\n",
      "Genre reggae: 2.45%\n",
      "Genre rock: 1.75%\n",
      "***************************************************************************************************\n",
      "Test on Camila Cabello - Havana (Official Music VIdeo) ft. Young Thug.mp3\n"
     ]
    }
   ],
   "source": [
    "test_model(cnn_dealer, 'cnnTest.json')"
   ]
  },
  {
   "cell_type": "code",
   "execution_count": null,
   "metadata": {
    "scrolled": true
   },
   "outputs": [],
   "source": [
    "test_model(crnn_dealer, 'crnnTest.json')"
   ]
  },
  {
   "cell_type": "code",
   "execution_count": null,
   "metadata": {},
   "outputs": [],
   "source": [
    "test_model(lcrnn_dealer, 'lcrnnTest.json')"
   ]
  },
  {
   "cell_type": "markdown",
   "metadata": {},
   "source": [
    "# Make Graphs"
   ]
  },
  {
   "cell_type": "code",
   "execution_count": null,
   "metadata": {},
   "outputs": [],
   "source": [
    "import matplotlib.pyplot as plt"
   ]
  },
  {
   "cell_type": "code",
   "execution_count": null,
   "metadata": {},
   "outputs": [],
   "source": [
    "with open(Para.LOG_SAVE_FOLD + 'cnnTest.json', 'r') as f:\n",
    "    cnn = json.load(f)\n",
    "with open(Para.LOG_SAVE_FOLD + 'crnnTest.json', 'r') as f:\n",
    "    crnn = json.load(f)\n",
    "with open(Para.LOG_SAVE_FOLD + 'lcrnnTest.json', 'r') as f:\n",
    "    lcrnn = json.load(f)"
   ]
  },
  {
   "cell_type": "code",
   "execution_count": null,
   "metadata": {},
   "outputs": [],
   "source": [
    "plt.figure(figsize=(10,10))\n",
    "plt.bar(range(len(cnn)), cnn.values(), \n",
    "        align='center', \n",
    "        color= (0,0,0,0),\n",
    "        edgecolor = 'r',\n",
    "        label='cnn model')\n",
    "\n",
    "plt.bar(range(len(crnn)), crnn.values(), \n",
    "        align='center', \n",
    "        color=(0,0,0,0),\n",
    "        edgecolor = 'b',\n",
    "        label='crnnI model')\n",
    "\n",
    "plt.bar(range(len(lcrnn)), lcrnn.values(), \n",
    "        align='center', \n",
    "        color=(0,0,0,0),\n",
    "        edgecolor = 'g',\n",
    "        label='crnnII model')\n",
    "\n",
    "plt.xticks(range(len(cnn)), cnn.keys())\n",
    "plt.legend(loc=\"upper left\")\n",
    "plt.show()"
   ]
  }
 ],
 "metadata": {
  "kernelspec": {
   "display_name": "Python 3",
   "language": "python",
   "name": "python3"
  },
  "language_info": {
   "codemirror_mode": {
    "name": "ipython",
    "version": 3
   },
   "file_extension": ".py",
   "mimetype": "text/x-python",
   "name": "python",
   "nbconvert_exporter": "python",
   "pygments_lexer": "ipython3",
   "version": "3.7.1"
  }
 },
 "nbformat": 4,
 "nbformat_minor": 2
}
